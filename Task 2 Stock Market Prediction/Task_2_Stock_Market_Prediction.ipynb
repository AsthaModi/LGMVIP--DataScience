{
  "nbformat": 4,
  "nbformat_minor": 0,
  "metadata": {
    "colab": {
      "name": "Task 2 - Stock Market Prediction.ipynb",
      "provenance": [],
      "collapsed_sections": []
    },
    "kernelspec": {
      "name": "python3",
      "display_name": "Python 3"
    },
    "language_info": {
      "name": "python"
    }
  },
  "cells": [
    {
      "cell_type": "markdown",
      "metadata": {
        "id": "AIHOJCMzKjWq"
      },
      "source": [
        "##Importing Libraries"
      ]
    },
    {
      "cell_type": "code",
      "metadata": {
        "id": "YoXecCfL8Pe7"
      },
      "source": [
        "import numpy as np\n",
        "import pandas as pd\n",
        "import matplotlib.pyplot as plt\n",
        "from sklearn.preprocessing import MinMaxScaler\n",
        "import warnings\n",
        "warnings.filterwarnings('ignore')"
      ],
      "execution_count": 20,
      "outputs": []
    },
    {
      "cell_type": "markdown",
      "metadata": {
        "id": "Jg2Gexr-KnNz"
      },
      "source": [
        "##Loading Datasets"
      ]
    },
    {
      "cell_type": "code",
      "metadata": {
        "colab": {
          "base_uri": "https://localhost:8080/",
          "height": 203
        },
        "id": "r8E90PKB8b2u",
        "outputId": "40698ed5-b093-45ab-e956-9f57910b3da0"
      },
      "source": [
        "data = pd.read_csv('NSE-TATAGLOBAL.csv')\n",
        "data.head()"
      ],
      "execution_count": 21,
      "outputs": [
        {
          "output_type": "execute_result",
          "data": {
            "text/html": [
              "<div>\n",
              "<style scoped>\n",
              "    .dataframe tbody tr th:only-of-type {\n",
              "        vertical-align: middle;\n",
              "    }\n",
              "\n",
              "    .dataframe tbody tr th {\n",
              "        vertical-align: top;\n",
              "    }\n",
              "\n",
              "    .dataframe thead th {\n",
              "        text-align: right;\n",
              "    }\n",
              "</style>\n",
              "<table border=\"1\" class=\"dataframe\">\n",
              "  <thead>\n",
              "    <tr style=\"text-align: right;\">\n",
              "      <th></th>\n",
              "      <th>Date</th>\n",
              "      <th>Open</th>\n",
              "      <th>High</th>\n",
              "      <th>Low</th>\n",
              "      <th>Last</th>\n",
              "      <th>Close</th>\n",
              "      <th>Total Trade Quantity</th>\n",
              "      <th>Turnover (Lacs)</th>\n",
              "    </tr>\n",
              "  </thead>\n",
              "  <tbody>\n",
              "    <tr>\n",
              "      <th>0</th>\n",
              "      <td>2018-09-28</td>\n",
              "      <td>234.05</td>\n",
              "      <td>235.95</td>\n",
              "      <td>230.20</td>\n",
              "      <td>233.50</td>\n",
              "      <td>233.75</td>\n",
              "      <td>3069914</td>\n",
              "      <td>7162.35</td>\n",
              "    </tr>\n",
              "    <tr>\n",
              "      <th>1</th>\n",
              "      <td>2018-09-27</td>\n",
              "      <td>234.55</td>\n",
              "      <td>236.80</td>\n",
              "      <td>231.10</td>\n",
              "      <td>233.80</td>\n",
              "      <td>233.25</td>\n",
              "      <td>5082859</td>\n",
              "      <td>11859.95</td>\n",
              "    </tr>\n",
              "    <tr>\n",
              "      <th>2</th>\n",
              "      <td>2018-09-26</td>\n",
              "      <td>240.00</td>\n",
              "      <td>240.00</td>\n",
              "      <td>232.50</td>\n",
              "      <td>235.00</td>\n",
              "      <td>234.25</td>\n",
              "      <td>2240909</td>\n",
              "      <td>5248.60</td>\n",
              "    </tr>\n",
              "    <tr>\n",
              "      <th>3</th>\n",
              "      <td>2018-09-25</td>\n",
              "      <td>233.30</td>\n",
              "      <td>236.75</td>\n",
              "      <td>232.00</td>\n",
              "      <td>236.25</td>\n",
              "      <td>236.10</td>\n",
              "      <td>2349368</td>\n",
              "      <td>5503.90</td>\n",
              "    </tr>\n",
              "    <tr>\n",
              "      <th>4</th>\n",
              "      <td>2018-09-24</td>\n",
              "      <td>233.55</td>\n",
              "      <td>239.20</td>\n",
              "      <td>230.75</td>\n",
              "      <td>234.00</td>\n",
              "      <td>233.30</td>\n",
              "      <td>3423509</td>\n",
              "      <td>7999.55</td>\n",
              "    </tr>\n",
              "  </tbody>\n",
              "</table>\n",
              "</div>"
            ],
            "text/plain": [
              "         Date    Open    High  ...   Close  Total Trade Quantity  Turnover (Lacs)\n",
              "0  2018-09-28  234.05  235.95  ...  233.75               3069914          7162.35\n",
              "1  2018-09-27  234.55  236.80  ...  233.25               5082859         11859.95\n",
              "2  2018-09-26  240.00  240.00  ...  234.25               2240909          5248.60\n",
              "3  2018-09-25  233.30  236.75  ...  236.10               2349368          5503.90\n",
              "4  2018-09-24  233.55  239.20  ...  233.30               3423509          7999.55\n",
              "\n",
              "[5 rows x 8 columns]"
            ]
          },
          "metadata": {},
          "execution_count": 21
        }
      ]
    },
    {
      "cell_type": "code",
      "metadata": {
        "colab": {
          "base_uri": "https://localhost:8080/"
        },
        "id": "gz2IcWo89bzn",
        "outputId": "d7e14b26-962b-4674-b357-08e7412be367"
      },
      "source": [
        "print(type(data.Date[0]))"
      ],
      "execution_count": 22,
      "outputs": [
        {
          "output_type": "stream",
          "name": "stdout",
          "text": [
            "<class 'str'>\n"
          ]
        }
      ]
    },
    {
      "cell_type": "code",
      "metadata": {
        "colab": {
          "base_uri": "https://localhost:8080/",
          "height": 203
        },
        "id": "bjbXHU2T9jhP",
        "outputId": "8628cad6-1c49-4948-a622-ef2612f692f2"
      },
      "source": [
        "df = data.sort_values(by='Date')\n",
        "df.head()"
      ],
      "execution_count": 23,
      "outputs": [
        {
          "output_type": "execute_result",
          "data": {
            "text/html": [
              "<div>\n",
              "<style scoped>\n",
              "    .dataframe tbody tr th:only-of-type {\n",
              "        vertical-align: middle;\n",
              "    }\n",
              "\n",
              "    .dataframe tbody tr th {\n",
              "        vertical-align: top;\n",
              "    }\n",
              "\n",
              "    .dataframe thead th {\n",
              "        text-align: right;\n",
              "    }\n",
              "</style>\n",
              "<table border=\"1\" class=\"dataframe\">\n",
              "  <thead>\n",
              "    <tr style=\"text-align: right;\">\n",
              "      <th></th>\n",
              "      <th>Date</th>\n",
              "      <th>Open</th>\n",
              "      <th>High</th>\n",
              "      <th>Low</th>\n",
              "      <th>Last</th>\n",
              "      <th>Close</th>\n",
              "      <th>Total Trade Quantity</th>\n",
              "      <th>Turnover (Lacs)</th>\n",
              "    </tr>\n",
              "  </thead>\n",
              "  <tbody>\n",
              "    <tr>\n",
              "      <th>2034</th>\n",
              "      <td>2010-07-21</td>\n",
              "      <td>122.1</td>\n",
              "      <td>123.00</td>\n",
              "      <td>121.05</td>\n",
              "      <td>121.10</td>\n",
              "      <td>121.55</td>\n",
              "      <td>658666</td>\n",
              "      <td>803.56</td>\n",
              "    </tr>\n",
              "    <tr>\n",
              "      <th>2033</th>\n",
              "      <td>2010-07-22</td>\n",
              "      <td>120.3</td>\n",
              "      <td>122.00</td>\n",
              "      <td>120.25</td>\n",
              "      <td>120.75</td>\n",
              "      <td>120.90</td>\n",
              "      <td>293312</td>\n",
              "      <td>355.17</td>\n",
              "    </tr>\n",
              "    <tr>\n",
              "      <th>2032</th>\n",
              "      <td>2010-07-23</td>\n",
              "      <td>121.8</td>\n",
              "      <td>121.95</td>\n",
              "      <td>120.25</td>\n",
              "      <td>120.35</td>\n",
              "      <td>120.65</td>\n",
              "      <td>281312</td>\n",
              "      <td>340.31</td>\n",
              "    </tr>\n",
              "    <tr>\n",
              "      <th>2031</th>\n",
              "      <td>2010-07-26</td>\n",
              "      <td>120.1</td>\n",
              "      <td>121.00</td>\n",
              "      <td>117.10</td>\n",
              "      <td>117.10</td>\n",
              "      <td>117.60</td>\n",
              "      <td>658440</td>\n",
              "      <td>780.01</td>\n",
              "    </tr>\n",
              "    <tr>\n",
              "      <th>2030</th>\n",
              "      <td>2010-07-27</td>\n",
              "      <td>117.6</td>\n",
              "      <td>119.50</td>\n",
              "      <td>112.00</td>\n",
              "      <td>118.80</td>\n",
              "      <td>118.65</td>\n",
              "      <td>586100</td>\n",
              "      <td>694.98</td>\n",
              "    </tr>\n",
              "  </tbody>\n",
              "</table>\n",
              "</div>"
            ],
            "text/plain": [
              "            Date   Open    High  ...   Close  Total Trade Quantity  Turnover (Lacs)\n",
              "2034  2010-07-21  122.1  123.00  ...  121.55                658666           803.56\n",
              "2033  2010-07-22  120.3  122.00  ...  120.90                293312           355.17\n",
              "2032  2010-07-23  121.8  121.95  ...  120.65                281312           340.31\n",
              "2031  2010-07-26  120.1  121.00  ...  117.60                658440           780.01\n",
              "2030  2010-07-27  117.6  119.50  ...  118.65                586100           694.98\n",
              "\n",
              "[5 rows x 8 columns]"
            ]
          },
          "metadata": {},
          "execution_count": 23
        }
      ]
    },
    {
      "cell_type": "code",
      "metadata": {
        "id": "5Jafid3F97Pt"
      },
      "source": [
        "df.reset_index(inplace = True)"
      ],
      "execution_count": 24,
      "outputs": []
    },
    {
      "cell_type": "code",
      "metadata": {
        "colab": {
          "base_uri": "https://localhost:8080/",
          "height": 203
        },
        "id": "-LMBAUXv9TOo",
        "outputId": "3f098877-4b1b-4754-ea0f-89adb4f77d90"
      },
      "source": [
        "df.head()"
      ],
      "execution_count": 25,
      "outputs": [
        {
          "output_type": "execute_result",
          "data": {
            "text/html": [
              "<div>\n",
              "<style scoped>\n",
              "    .dataframe tbody tr th:only-of-type {\n",
              "        vertical-align: middle;\n",
              "    }\n",
              "\n",
              "    .dataframe tbody tr th {\n",
              "        vertical-align: top;\n",
              "    }\n",
              "\n",
              "    .dataframe thead th {\n",
              "        text-align: right;\n",
              "    }\n",
              "</style>\n",
              "<table border=\"1\" class=\"dataframe\">\n",
              "  <thead>\n",
              "    <tr style=\"text-align: right;\">\n",
              "      <th></th>\n",
              "      <th>index</th>\n",
              "      <th>Date</th>\n",
              "      <th>Open</th>\n",
              "      <th>High</th>\n",
              "      <th>Low</th>\n",
              "      <th>Last</th>\n",
              "      <th>Close</th>\n",
              "      <th>Total Trade Quantity</th>\n",
              "      <th>Turnover (Lacs)</th>\n",
              "    </tr>\n",
              "  </thead>\n",
              "  <tbody>\n",
              "    <tr>\n",
              "      <th>0</th>\n",
              "      <td>2034</td>\n",
              "      <td>2010-07-21</td>\n",
              "      <td>122.1</td>\n",
              "      <td>123.00</td>\n",
              "      <td>121.05</td>\n",
              "      <td>121.10</td>\n",
              "      <td>121.55</td>\n",
              "      <td>658666</td>\n",
              "      <td>803.56</td>\n",
              "    </tr>\n",
              "    <tr>\n",
              "      <th>1</th>\n",
              "      <td>2033</td>\n",
              "      <td>2010-07-22</td>\n",
              "      <td>120.3</td>\n",
              "      <td>122.00</td>\n",
              "      <td>120.25</td>\n",
              "      <td>120.75</td>\n",
              "      <td>120.90</td>\n",
              "      <td>293312</td>\n",
              "      <td>355.17</td>\n",
              "    </tr>\n",
              "    <tr>\n",
              "      <th>2</th>\n",
              "      <td>2032</td>\n",
              "      <td>2010-07-23</td>\n",
              "      <td>121.8</td>\n",
              "      <td>121.95</td>\n",
              "      <td>120.25</td>\n",
              "      <td>120.35</td>\n",
              "      <td>120.65</td>\n",
              "      <td>281312</td>\n",
              "      <td>340.31</td>\n",
              "    </tr>\n",
              "    <tr>\n",
              "      <th>3</th>\n",
              "      <td>2031</td>\n",
              "      <td>2010-07-26</td>\n",
              "      <td>120.1</td>\n",
              "      <td>121.00</td>\n",
              "      <td>117.10</td>\n",
              "      <td>117.10</td>\n",
              "      <td>117.60</td>\n",
              "      <td>658440</td>\n",
              "      <td>780.01</td>\n",
              "    </tr>\n",
              "    <tr>\n",
              "      <th>4</th>\n",
              "      <td>2030</td>\n",
              "      <td>2010-07-27</td>\n",
              "      <td>117.6</td>\n",
              "      <td>119.50</td>\n",
              "      <td>112.00</td>\n",
              "      <td>118.80</td>\n",
              "      <td>118.65</td>\n",
              "      <td>586100</td>\n",
              "      <td>694.98</td>\n",
              "    </tr>\n",
              "  </tbody>\n",
              "</table>\n",
              "</div>"
            ],
            "text/plain": [
              "   index        Date   Open  ...   Close  Total Trade Quantity  Turnover (Lacs)\n",
              "0   2034  2010-07-21  122.1  ...  121.55                658666           803.56\n",
              "1   2033  2010-07-22  120.3  ...  120.90                293312           355.17\n",
              "2   2032  2010-07-23  121.8  ...  120.65                281312           340.31\n",
              "3   2031  2010-07-26  120.1  ...  117.60                658440           780.01\n",
              "4   2030  2010-07-27  117.6  ...  118.65                586100           694.98\n",
              "\n",
              "[5 rows x 9 columns]"
            ]
          },
          "metadata": {},
          "execution_count": 25
        }
      ]
    },
    {
      "cell_type": "markdown",
      "metadata": {
        "id": "02Bfx2Mf-jQU"
      },
      "source": [
        "##Visualization"
      ]
    },
    {
      "cell_type": "code",
      "metadata": {
        "colab": {
          "base_uri": "https://localhost:8080/",
          "height": 282
        },
        "id": "HOSlwwPe9YfJ",
        "outputId": "aa4f91fd-ac6c-40bd-eeb6-20429349b2f0"
      },
      "source": [
        "plt.plot(df['Close'])"
      ],
      "execution_count": 26,
      "outputs": [
        {
          "output_type": "execute_result",
          "data": {
            "text/plain": [
              "[<matplotlib.lines.Line2D at 0x7fd57ae37b10>]"
            ]
          },
          "metadata": {},
          "execution_count": 26
        },
        {
          "output_type": "display_data",
          "data": {
            "image/png": "[encoded data removed]",
            "text/plain": [
              "<Figure size 432x288 with 1 Axes>"
            ]
          },
          "metadata": {
            "needs_background": "light"
          }
        }
      ]
    },
    {
      "cell_type": "code",
      "metadata": {
        "id": "ymmHz8hy-vSi"
      },
      "source": [
        "close = df['Close']"
      ],
      "execution_count": 27,
      "outputs": []
    },
    {
      "cell_type": "code",
      "metadata": {
        "colab": {
          "base_uri": "https://localhost:8080/"
        },
        "id": "nLT36Mwz-yjE",
        "outputId": "ae9140ce-900d-48f0-91c0-4b7e2d4b14b5"
      },
      "source": [
        "scaler = MinMaxScaler(feature_range=(0,1))\n",
        "close = scaler.fit_transform(np.array(close).reshape(-1,1))\n",
        "close"
      ],
      "execution_count": 29,
      "outputs": [
        {
          "output_type": "execute_result",
          "data": {
            "text/plain": [
              "array([[0.16584967],\n",
              "       [0.16319444],\n",
              "       [0.1621732 ],\n",
              "       ...,\n",
              "       [0.62622549],\n",
              "       [0.62214052],\n",
              "       [0.62418301]])"
            ]
          },
          "metadata": {},
          "execution_count": 29
        }
      ]
    },
    {
      "cell_type": "markdown",
      "metadata": {
        "id": "CAMsA9kyDXs7"
      },
      "source": [
        "##Splitting the dataset"
      ]
    },
    {
      "cell_type": "code",
      "metadata": {
        "id": "9NnVaf8R-ydg"
      },
      "source": [
        "training_size = int(len(close)*0.70)\n",
        "test_size = len(close) - training_size\n",
        "train_data, test_data = close[0:training_size,:], close[0:test_size,:1] "
      ],
      "execution_count": 32,
      "outputs": []
    },
    {
      "cell_type": "markdown",
      "metadata": {
        "id": "h2U2atIgEG08"
      },
      "source": [
        "Convert array into a dataset matrix"
      ]
    },
    {
      "cell_type": "code",
      "metadata": {
        "id": "oUTl98Dz-ybL"
      },
      "source": [
        "def create_dataset(dataset,time_step=1):\n",
        "  dataX, dataY = [],[]\n",
        "  for i in range(len(dataset)-time_step-1):\n",
        "    a = dataset[i:(i+time_step),0]\n",
        "    dataX.append(a)\n",
        "    dataY.append(dataset[i + time_step,0])\n",
        "  return np.array(dataX), np.array(dataY)"
      ],
      "execution_count": 38,
      "outputs": []
    },
    {
      "cell_type": "markdown",
      "metadata": {
        "id": "ViQXwyTnFCcq"
      },
      "source": [
        "Splitting data into train and test datasets"
      ]
    },
    {
      "cell_type": "code",
      "metadata": {
        "id": "WCKyIurb-yYx"
      },
      "source": [
        "time_step = 100\n",
        "X_train, y_train = create_dataset(train_data, time_step)\n",
        "X_test, y_test = create_dataset(test_data, time_step)"
      ],
      "execution_count": 39,
      "outputs": []
    },
    {
      "cell_type": "code",
      "metadata": {
        "colab": {
          "base_uri": "https://localhost:8080/"
        },
        "id": "wRc1FMxQ-yV1",
        "outputId": "c9da813d-bbcc-410a-dedc-4b9dd432b5a7"
      },
      "source": [
        "print(X_train.shape), print(y_train.shape)"
      ],
      "execution_count": 40,
      "outputs": [
        {
          "output_type": "stream",
          "name": "stdout",
          "text": [
            "(1323, 100)\n",
            "(1323,)\n"
          ]
        },
        {
          "output_type": "execute_result",
          "data": {
            "text/plain": [
              "(None, None)"
            ]
          },
          "metadata": {},
          "execution_count": 40
        }
      ]
    },
    {
      "cell_type": "code",
      "metadata": {
        "colab": {
          "base_uri": "https://localhost:8080/"
        },
        "id": "8OB9YuwwF3mR",
        "outputId": "29dbafc1-841f-4592-dd55-832d825ad09f"
      },
      "source": [
        "print(X_test.shape), print(y_test.shape)"
      ],
      "execution_count": 41,
      "outputs": [
        {
          "output_type": "stream",
          "name": "stdout",
          "text": [
            "(510, 100)\n",
            "(510,)\n"
          ]
        },
        {
          "output_type": "execute_result",
          "data": {
            "text/plain": [
              "(None, None)"
            ]
          },
          "metadata": {},
          "execution_count": 41
        }
      ]
    },
    {
      "cell_type": "code",
      "metadata": {
        "id": "0xowHijhF3hj"
      },
      "source": [
        "X_train = X_train.reshape(X_train.shape[0], X_train.shape[1], 1)\n",
        "X_test = X_test.reshape(X_test.shape[0], X_test.shape[1], 1)"
      ],
      "execution_count": 42,
      "outputs": []
    },
    {
      "cell_type": "markdown",
      "metadata": {
        "id": "bK4Efvn4GYlY"
      },
      "source": [
        "##Creating LSTM Model"
      ]
    },
    {
      "cell_type": "code",
      "metadata": {
        "id": "AG5-PqutF3kR"
      },
      "source": [
        "import tensorflow\n",
        "\n",
        "from tensorflow.keras.models import Sequential\n",
        "from tensorflow.keras.layers import Dense\n",
        "from tensorflow.keras.layers import LSTM"
      ],
      "execution_count": 45,
      "outputs": []
    },
    {
      "cell_type": "code",
      "metadata": {
        "colab": {
          "base_uri": "https://localhost:8080/"
        },
        "id": "Df_8iNGf8jqA",
        "outputId": "9ff5f731-076e-486a-8fb7-f6b6bd65db0b"
      },
      "source": [
        "model = Sequential()\n",
        "model.add(LSTM(50, return_sequences=True, input_shape=(100,1)))\n",
        "model.add(LSTM(50, return_sequences=True))\n",
        "model.add(LSTM(50))\n",
        "model.add(Dense(1))\n",
        "model.compile(loss = 'mean_squared_error', optimizer = 'adam')\n",
        "model.summary()"
      ],
      "execution_count": 47,
      "outputs": [
        {
          "output_type": "stream",
          "name": "stdout",
          "text": [
            "Model: \"sequential_1\"\n",
            "_________________________________________________________________\n",
            "Layer (type)                 Output Shape              Param #   \n",
            "=================================================================\n",
            "lstm_3 (LSTM)                (None, 100, 50)           10400     \n",
            "_________________________________________________________________\n",
            "lstm_4 (LSTM)                (None, 100, 50)           20200     \n",
            "_________________________________________________________________\n",
            "lstm_5 (LSTM)                (None, 50)                20200     \n",
            "_________________________________________________________________\n",
            "dense_1 (Dense)              (None, 1)                 51        \n",
            "=================================================================\n",
            "Total params: 50,851\n",
            "Trainable params: 50,851\n",
            "Non-trainable params: 0\n",
            "_________________________________________________________________\n"
          ]
        }
      ]
    },
    {
      "cell_type": "code",
      "metadata": {
        "colab": {
          "base_uri": "https://localhost:8080/"
        },
        "id": "WyvfsX_NIaUr",
        "outputId": "b91aaa1d-b29b-4068-9919-f623c67ead0b"
      },
      "source": [
        "model.fit(X_train, y_train, validation_split=0.1, epochs=60, batch_size=64, verbose=1)"
      ],
      "execution_count": 48,
      "outputs": [
        {
          "output_type": "stream",
          "name": "stdout",
          "text": [
            "Epoch 1/60\n",
            "19/19 [==============================] - 11s 278ms/step - loss: 0.0115 - val_loss: 0.0014\n",
            "Epoch 2/60\n",
            "19/19 [==============================] - 4s 198ms/step - loss: 0.0018 - val_loss: 0.0014\n",
            "Epoch 3/60\n",
            "19/19 [==============================] - 4s 197ms/step - loss: 9.0969e-04 - val_loss: 0.0012\n",
            "Epoch 4/60\n",
            "19/19 [==============================] - 4s 197ms/step - loss: 8.3762e-04 - val_loss: 0.0012\n",
            "Epoch 5/60\n",
            "19/19 [==============================] - 4s 195ms/step - loss: 8.0579e-04 - val_loss: 0.0011\n",
            "Epoch 6/60\n",
            "19/19 [==============================] - 4s 195ms/step - loss: 8.2108e-04 - val_loss: 0.0010\n",
            "Epoch 7/60\n",
            "19/19 [==============================] - 4s 197ms/step - loss: 7.6931e-04 - val_loss: 9.8162e-04\n",
            "Epoch 8/60\n",
            "19/19 [==============================] - 4s 196ms/step - loss: 7.4516e-04 - val_loss: 9.5575e-04\n",
            "Epoch 9/60\n",
            "19/19 [==============================] - 4s 197ms/step - loss: 7.4700e-04 - val_loss: 9.4641e-04\n",
            "Epoch 10/60\n",
            "19/19 [==============================] - 4s 198ms/step - loss: 7.0795e-04 - val_loss: 8.8372e-04\n",
            "Epoch 11/60\n",
            "19/19 [==============================] - 4s 198ms/step - loss: 6.7773e-04 - val_loss: 8.1419e-04\n",
            "Epoch 12/60\n",
            "19/19 [==============================] - 4s 199ms/step - loss: 6.6086e-04 - val_loss: 8.0844e-04\n",
            "Epoch 13/60\n",
            "19/19 [==============================] - 4s 196ms/step - loss: 6.7666e-04 - val_loss: 7.7875e-04\n",
            "Epoch 14/60\n",
            "19/19 [==============================] - 4s 198ms/step - loss: 6.5537e-04 - val_loss: 8.2980e-04\n",
            "Epoch 15/60\n",
            "19/19 [==============================] - 4s 200ms/step - loss: 6.1707e-04 - val_loss: 7.0507e-04\n",
            "Epoch 16/60\n",
            "19/19 [==============================] - 4s 196ms/step - loss: 6.5557e-04 - val_loss: 7.6920e-04\n",
            "Epoch 17/60\n",
            "19/19 [==============================] - 4s 198ms/step - loss: 5.9661e-04 - val_loss: 6.5367e-04\n",
            "Epoch 18/60\n",
            "19/19 [==============================] - 4s 201ms/step - loss: 5.6479e-04 - val_loss: 6.4478e-04\n",
            "Epoch 19/60\n",
            "19/19 [==============================] - 4s 199ms/step - loss: 5.8424e-04 - val_loss: 6.8394e-04\n",
            "Epoch 20/60\n",
            "19/19 [==============================] - 4s 197ms/step - loss: 5.4174e-04 - val_loss: 5.8907e-04\n",
            "Epoch 21/60\n",
            "19/19 [==============================] - 4s 197ms/step - loss: 5.3125e-04 - val_loss: 5.8049e-04\n",
            "Epoch 22/60\n",
            "19/19 [==============================] - 4s 200ms/step - loss: 5.2180e-04 - val_loss: 5.7559e-04\n",
            "Epoch 23/60\n",
            "19/19 [==============================] - 4s 199ms/step - loss: 5.0841e-04 - val_loss: 5.6261e-04\n",
            "Epoch 24/60\n",
            "19/19 [==============================] - 4s 195ms/step - loss: 5.2354e-04 - val_loss: 5.3032e-04\n",
            "Epoch 25/60\n",
            "19/19 [==============================] - 4s 198ms/step - loss: 5.2575e-04 - val_loss: 4.9916e-04\n",
            "Epoch 26/60\n",
            "19/19 [==============================] - 4s 196ms/step - loss: 5.2242e-04 - val_loss: 5.3450e-04\n",
            "Epoch 27/60\n",
            "19/19 [==============================] - 4s 197ms/step - loss: 4.7537e-04 - val_loss: 4.9675e-04\n",
            "Epoch 28/60\n",
            "19/19 [==============================] - 4s 199ms/step - loss: 4.6109e-04 - val_loss: 4.7721e-04\n",
            "Epoch 29/60\n",
            "19/19 [==============================] - 4s 195ms/step - loss: 4.7091e-04 - val_loss: 4.4747e-04\n",
            "Epoch 30/60\n",
            "19/19 [==============================] - 4s 196ms/step - loss: 4.3632e-04 - val_loss: 4.9404e-04\n",
            "Epoch 31/60\n",
            "19/19 [==============================] - 4s 196ms/step - loss: 4.2369e-04 - val_loss: 4.2752e-04\n",
            "Epoch 32/60\n",
            "19/19 [==============================] - 4s 199ms/step - loss: 4.2642e-04 - val_loss: 4.2225e-04\n",
            "Epoch 33/60\n",
            "19/19 [==============================] - 4s 196ms/step - loss: 4.3851e-04 - val_loss: 4.1678e-04\n",
            "Epoch 34/60\n",
            "19/19 [==============================] - 4s 198ms/step - loss: 4.4844e-04 - val_loss: 4.2266e-04\n",
            "Epoch 35/60\n",
            "19/19 [==============================] - 4s 198ms/step - loss: 4.2834e-04 - val_loss: 3.8173e-04\n",
            "Epoch 36/60\n",
            "19/19 [==============================] - 4s 197ms/step - loss: 3.8190e-04 - val_loss: 3.7938e-04\n",
            "Epoch 37/60\n",
            "19/19 [==============================] - 4s 196ms/step - loss: 3.6721e-04 - val_loss: 4.0379e-04\n",
            "Epoch 38/60\n",
            "19/19 [==============================] - 4s 198ms/step - loss: 3.5371e-04 - val_loss: 3.3665e-04\n",
            "Epoch 39/60\n",
            "19/19 [==============================] - 4s 199ms/step - loss: 3.6778e-04 - val_loss: 3.2354e-04\n",
            "Epoch 40/60\n",
            "19/19 [==============================] - 4s 196ms/step - loss: 3.3901e-04 - val_loss: 3.3720e-04\n",
            "Epoch 41/60\n",
            "19/19 [==============================] - 4s 195ms/step - loss: 3.3173e-04 - val_loss: 3.5156e-04\n",
            "Epoch 42/60\n",
            "19/19 [==============================] - 4s 197ms/step - loss: 3.2007e-04 - val_loss: 2.9559e-04\n",
            "Epoch 43/60\n",
            "19/19 [==============================] - 4s 199ms/step - loss: 3.1502e-04 - val_loss: 2.8128e-04\n",
            "Epoch 44/60\n",
            "19/19 [==============================] - 4s 200ms/step - loss: 2.9799e-04 - val_loss: 2.7026e-04\n",
            "Epoch 45/60\n",
            "19/19 [==============================] - 4s 195ms/step - loss: 3.1659e-04 - val_loss: 2.9185e-04\n",
            "Epoch 46/60\n",
            "19/19 [==============================] - 4s 198ms/step - loss: 3.0808e-04 - val_loss: 2.5426e-04\n",
            "Epoch 47/60\n",
            "19/19 [==============================] - 4s 200ms/step - loss: 2.8963e-04 - val_loss: 3.6525e-04\n",
            "Epoch 48/60\n",
            "19/19 [==============================] - 4s 201ms/step - loss: 2.9890e-04 - val_loss: 5.1351e-04\n",
            "Epoch 49/60\n",
            "19/19 [==============================] - 4s 199ms/step - loss: 3.4975e-04 - val_loss: 2.9114e-04\n",
            "Epoch 50/60\n",
            "19/19 [==============================] - 4s 197ms/step - loss: 2.7729e-04 - val_loss: 2.3739e-04\n",
            "Epoch 51/60\n",
            "19/19 [==============================] - 4s 198ms/step - loss: 2.7943e-04 - val_loss: 2.2524e-04\n",
            "Epoch 52/60\n",
            "19/19 [==============================] - 4s 200ms/step - loss: 2.6487e-04 - val_loss: 2.4065e-04\n",
            "Epoch 53/60\n",
            "19/19 [==============================] - 4s 199ms/step - loss: 2.5043e-04 - val_loss: 2.1703e-04\n",
            "Epoch 54/60\n",
            "19/19 [==============================] - 4s 198ms/step - loss: 2.5087e-04 - val_loss: 2.2528e-04\n",
            "Epoch 55/60\n",
            "19/19 [==============================] - 4s 201ms/step - loss: 2.3155e-04 - val_loss: 2.2852e-04\n",
            "Epoch 56/60\n",
            "19/19 [==============================] - 4s 197ms/step - loss: 2.3551e-04 - val_loss: 2.1280e-04\n",
            "Epoch 57/60\n",
            "19/19 [==============================] - 4s 198ms/step - loss: 3.0259e-04 - val_loss: 1.9541e-04\n",
            "Epoch 58/60\n",
            "19/19 [==============================] - 4s 196ms/step - loss: 2.4519e-04 - val_loss: 2.1191e-04\n",
            "Epoch 59/60\n",
            "19/19 [==============================] - 4s 197ms/step - loss: 2.2198e-04 - val_loss: 1.9657e-04\n",
            "Epoch 60/60\n",
            "19/19 [==============================] - 4s 199ms/step - loss: 2.2751e-04 - val_loss: 2.0571e-04\n"
          ]
        },
        {
          "output_type": "execute_result",
          "data": {
            "text/plain": [
              "<keras.callbacks.History at 0x7fd530509b10>"
            ]
          },
          "metadata": {},
          "execution_count": 48
        }
      ]
    },
    {
      "cell_type": "markdown",
      "metadata": {
        "id": "eC0QW4wzIn2u"
      },
      "source": [
        "##Prediction and checking performance"
      ]
    },
    {
      "cell_type": "code",
      "metadata": {
        "id": "xAQlC2OZIjN-"
      },
      "source": [
        "test_predict = model.predict(X_test)"
      ],
      "execution_count": 49,
      "outputs": []
    },
    {
      "cell_type": "code",
      "metadata": {
        "colab": {
          "base_uri": "https://localhost:8080/"
        },
        "id": "7eHcR_-RIwfB",
        "outputId": "258040f0-1d17-41ba-8672-1c8d047996f3"
      },
      "source": [
        "test_predicted = scaler.inverse_transform(test_predict)\n",
        "test_predicted"
      ],
      "execution_count": 50,
      "outputs": [
        {
          "output_type": "execute_result",
          "data": {
            "text/plain": [
              "array([[115.423004],\n",
              "       [113.99878 ],\n",
              "       [113.13496 ],\n",
              "       [113.18007 ],\n",
              "       [113.8916  ],\n",
              "       [114.83843 ],\n",
              "       [115.70241 ],\n",
              "       [116.35764 ],\n",
              "       [116.23336 ],\n",
              "       [115.382515],\n",
              "       [114.38644 ],\n",
              "       [113.02368 ],\n",
              "       [111.72874 ],\n",
              "       [110.80187 ],\n",
              "       [109.86892 ],\n",
              "       [109.28099 ],\n",
              "       [109.76536 ],\n",
              "       [111.15207 ],\n",
              "       [112.52402 ],\n",
              "       [113.16384 ],\n",
              "       [112.57191 ],\n",
              "       [110.52552 ],\n",
              "       [107.67247 ],\n",
              "       [105.50464 ],\n",
              "       [104.26028 ],\n",
              "       [104.019516],\n",
              "       [104.47036 ],\n",
              "       [105.12794 ],\n",
              "       [105.72775 ],\n",
              "       [106.42915 ],\n",
              "       [106.88434 ],\n",
              "       [107.16106 ],\n",
              "       [107.265015],\n",
              "       [107.26919 ],\n",
              "       [105.918755],\n",
              "       [103.88687 ],\n",
              "       [101.80276 ],\n",
              "       [100.04008 ],\n",
              "       [ 98.6232  ],\n",
              "       [ 97.54126 ],\n",
              "       [ 96.92362 ],\n",
              "       [ 96.12914 ],\n",
              "       [ 94.499374],\n",
              "       [ 92.64658 ],\n",
              "       [ 91.65548 ],\n",
              "       [ 91.93339 ],\n",
              "       [ 93.128845],\n",
              "       [ 94.36824 ],\n",
              "       [ 96.4496  ],\n",
              "       [ 97.58052 ],\n",
              "       [ 97.90725 ],\n",
              "       [ 97.76332 ],\n",
              "       [ 97.23614 ],\n",
              "       [ 95.262474],\n",
              "       [ 92.89624 ],\n",
              "       [ 91.020256],\n",
              "       [ 90.1666  ],\n",
              "       [ 90.02882 ],\n",
              "       [ 90.328995],\n",
              "       [ 90.47489 ],\n",
              "       [ 91.15935 ],\n",
              "       [ 92.60427 ],\n",
              "       [ 94.309265],\n",
              "       [ 96.598465],\n",
              "       [ 99.03818 ],\n",
              "       [100.41429 ],\n",
              "       [100.79882 ],\n",
              "       [100.2315  ],\n",
              "       [ 99.30355 ],\n",
              "       [ 98.57275 ],\n",
              "       [ 98.13182 ],\n",
              "       [ 97.92309 ],\n",
              "       [ 98.17339 ],\n",
              "       [ 98.49444 ],\n",
              "       [ 98.81119 ],\n",
              "       [ 98.6253  ],\n",
              "       [ 98.30822 ],\n",
              "       [ 98.163605],\n",
              "       [ 98.70327 ],\n",
              "       [ 99.82802 ],\n",
              "       [101.7057  ],\n",
              "       [103.92583 ],\n",
              "       [106.27746 ],\n",
              "       [107.36945 ],\n",
              "       [106.879486],\n",
              "       [105.729294],\n",
              "       [104.59893 ],\n",
              "       [103.28082 ],\n",
              "       [102.32004 ],\n",
              "       [101.90893 ],\n",
              "       [102.15902 ],\n",
              "       [102.583984],\n",
              "       [103.392456],\n",
              "       [104.196655],\n",
              "       [104.52256 ],\n",
              "       [104.09053 ],\n",
              "       [103.14365 ],\n",
              "       [102.03818 ],\n",
              "       [100.83214 ],\n",
              "       [ 99.53616 ],\n",
              "       [ 98.659676],\n",
              "       [ 98.2798  ],\n",
              "       [ 98.62599 ],\n",
              "       [ 99.51386 ],\n",
              "       [100.00439 ],\n",
              "       [100.235985],\n",
              "       [ 99.94972 ],\n",
              "       [ 99.22043 ],\n",
              "       [ 98.39645 ],\n",
              "       [ 97.68813 ],\n",
              "       [ 97.39532 ],\n",
              "       [ 97.11022 ],\n",
              "       [ 96.249084],\n",
              "       [ 94.47431 ],\n",
              "       [ 92.07894 ],\n",
              "       [ 90.206314],\n",
              "       [ 88.90863 ],\n",
              "       [ 88.23252 ],\n",
              "       [ 88.64995 ],\n",
              "       [ 90.07988 ],\n",
              "       [ 91.800095],\n",
              "       [ 93.198784],\n",
              "       [ 94.21711 ],\n",
              "       [ 95.46971 ],\n",
              "       [ 96.4891  ],\n",
              "       [ 96.96302 ],\n",
              "       [ 97.66472 ],\n",
              "       [ 98.53253 ],\n",
              "       [ 99.08508 ],\n",
              "       [ 98.98072 ],\n",
              "       [ 98.772804],\n",
              "       [ 97.740166],\n",
              "       [ 96.17501 ],\n",
              "       [ 94.32378 ],\n",
              "       [ 92.772064],\n",
              "       [ 91.959404],\n",
              "       [ 91.81732 ],\n",
              "       [ 92.17512 ],\n",
              "       [ 92.786026],\n",
              "       [ 93.96095 ],\n",
              "       [ 95.51543 ],\n",
              "       [ 98.10759 ],\n",
              "       [100.74535 ],\n",
              "       [102.77752 ],\n",
              "       [104.276306],\n",
              "       [104.24066 ],\n",
              "       [103.45543 ],\n",
              "       [102.3467  ],\n",
              "       [101.59729 ],\n",
              "       [101.483734],\n",
              "       [101.49053 ],\n",
              "       [101.93384 ],\n",
              "       [102.5364  ],\n",
              "       [102.7387  ],\n",
              "       [102.291145],\n",
              "       [102.20672 ],\n",
              "       [102.98685 ],\n",
              "       [104.093666],\n",
              "       [105.77323 ],\n",
              "       [107.36994 ],\n",
              "       [108.19997 ],\n",
              "       [108.410995],\n",
              "       [107.77694 ],\n",
              "       [107.39981 ],\n",
              "       [108.08378 ],\n",
              "       [108.3833  ],\n",
              "       [108.198944],\n",
              "       [107.07637 ],\n",
              "       [106.42628 ],\n",
              "       [105.64482 ],\n",
              "       [104.75878 ],\n",
              "       [103.27213 ],\n",
              "       [101.13613 ],\n",
              "       [ 97.87987 ],\n",
              "       [ 94.47137 ],\n",
              "       [ 92.26071 ],\n",
              "       [ 91.509865],\n",
              "       [ 91.57166 ],\n",
              "       [ 92.10981 ],\n",
              "       [ 92.30671 ],\n",
              "       [ 92.74746 ],\n",
              "       [ 93.36347 ],\n",
              "       [ 93.80358 ],\n",
              "       [ 93.80061 ],\n",
              "       [ 93.89389 ],\n",
              "       [ 94.13553 ],\n",
              "       [ 94.44203 ],\n",
              "       [ 94.50271 ],\n",
              "       [ 93.98491 ],\n",
              "       [ 93.1911  ],\n",
              "       [ 92.57182 ],\n",
              "       [ 92.33592 ],\n",
              "       [ 92.07081 ],\n",
              "       [ 91.785515],\n",
              "       [ 91.78053 ],\n",
              "       [ 92.09624 ],\n",
              "       [ 91.508255],\n",
              "       [ 90.431915],\n",
              "       [ 89.27623 ],\n",
              "       [ 88.62266 ],\n",
              "       [ 88.13698 ],\n",
              "       [ 87.65169 ],\n",
              "       [ 87.22319 ],\n",
              "       [ 86.63749 ],\n",
              "       [ 85.850044],\n",
              "       [ 84.79852 ],\n",
              "       [ 83.937836],\n",
              "       [ 83.82089 ],\n",
              "       [ 84.3985  ],\n",
              "       [ 85.496544],\n",
              "       [ 86.51344 ],\n",
              "       [ 87.36891 ],\n",
              "       [ 88.32774 ],\n",
              "       [ 88.84083 ],\n",
              "       [ 88.89763 ],\n",
              "       [ 88.33117 ],\n",
              "       [ 87.38321 ],\n",
              "       [ 86.47911 ],\n",
              "       [ 86.07031 ],\n",
              "       [ 86.25425 ],\n",
              "       [ 87.05351 ],\n",
              "       [ 88.53122 ],\n",
              "       [ 90.06513 ],\n",
              "       [ 91.19786 ],\n",
              "       [ 91.75437 ],\n",
              "       [ 91.889114],\n",
              "       [ 91.75521 ],\n",
              "       [ 91.269356],\n",
              "       [ 90.521225],\n",
              "       [ 89.67841 ],\n",
              "       [ 88.66276 ],\n",
              "       [ 87.40503 ],\n",
              "       [ 86.033676],\n",
              "       [ 84.85547 ],\n",
              "       [ 83.94018 ],\n",
              "       [ 83.42143 ],\n",
              "       [ 82.99069 ],\n",
              "       [ 82.805885],\n",
              "       [ 82.699905],\n",
              "       [ 82.910225],\n",
              "       [ 83.36496 ],\n",
              "       [ 83.85662 ],\n",
              "       [ 84.8424  ],\n",
              "       [ 86.57234 ],\n",
              "       [ 88.37897 ],\n",
              "       [ 89.85991 ],\n",
              "       [ 90.66027 ],\n",
              "       [ 90.848694],\n",
              "       [ 90.33339 ],\n",
              "       [ 89.6753  ],\n",
              "       [ 88.95698 ],\n",
              "       [ 88.69484 ],\n",
              "       [ 88.33202 ],\n",
              "       [ 87.60074 ],\n",
              "       [ 86.81919 ],\n",
              "       [ 86.386406],\n",
              "       [ 86.81055 ],\n",
              "       [ 87.60569 ],\n",
              "       [ 88.40803 ],\n",
              "       [ 88.91513 ],\n",
              "       [ 89.02669 ],\n",
              "       [ 89.262695],\n",
              "       [ 89.62883 ],\n",
              "       [ 90.14067 ],\n",
              "       [ 91.21236 ],\n",
              "       [ 92.65711 ],\n",
              "       [ 93.68374 ],\n",
              "       [ 94.21076 ],\n",
              "       [ 94.32069 ],\n",
              "       [ 94.15107 ],\n",
              "       [ 94.02085 ],\n",
              "       [ 93.827995],\n",
              "       [ 93.625374],\n",
              "       [ 93.67495 ],\n",
              "       [ 94.63092 ],\n",
              "       [ 95.85561 ],\n",
              "       [ 96.2115  ],\n",
              "       [ 95.96893 ],\n",
              "       [ 95.27311 ],\n",
              "       [ 94.3787  ],\n",
              "       [ 93.782776],\n",
              "       [ 93.86438 ],\n",
              "       [ 94.6908  ],\n",
              "       [ 95.95281 ],\n",
              "       [ 98.89384 ],\n",
              "       [102.81026 ],\n",
              "       [106.63398 ],\n",
              "       [111.4058  ],\n",
              "       [115.189064],\n",
              "       [116.66519 ],\n",
              "       [117.24176 ],\n",
              "       [118.60172 ],\n",
              "       [119.39178 ],\n",
              "       [120.09813 ],\n",
              "       [120.54209 ],\n",
              "       [120.81679 ],\n",
              "       [120.98273 ],\n",
              "       [120.71211 ],\n",
              "       [120.684784],\n",
              "       [120.066956],\n",
              "       [119.91069 ],\n",
              "       [120.18485 ],\n",
              "       [119.00073 ],\n",
              "       [118.95077 ],\n",
              "       [120.98521 ],\n",
              "       [123.21209 ],\n",
              "       [124.04348 ],\n",
              "       [123.680786],\n",
              "       [121.743034],\n",
              "       [118.937195],\n",
              "       [117.04418 ],\n",
              "       [116.78763 ],\n",
              "       [117.19325 ],\n",
              "       [118.02561 ],\n",
              "       [119.38926 ],\n",
              "       [119.67712 ],\n",
              "       [118.40966 ],\n",
              "       [115.84885 ],\n",
              "       [114.05791 ],\n",
              "       [113.69254 ],\n",
              "       [113.38892 ],\n",
              "       [113.39253 ],\n",
              "       [112.80434 ],\n",
              "       [112.11973 ],\n",
              "       [111.55499 ],\n",
              "       [110.86889 ],\n",
              "       [111.08854 ],\n",
              "       [112.50913 ],\n",
              "       [115.080414],\n",
              "       [117.40243 ],\n",
              "       [118.661835],\n",
              "       [119.01856 ],\n",
              "       [119.01185 ],\n",
              "       [119.56547 ],\n",
              "       [119.363106],\n",
              "       [119.04941 ],\n",
              "       [118.96114 ],\n",
              "       [119.12532 ],\n",
              "       [120.558266],\n",
              "       [121.90343 ],\n",
              "       [121.671196],\n",
              "       [120.77956 ],\n",
              "       [119.47173 ],\n",
              "       [118.04924 ],\n",
              "       [117.03551 ],\n",
              "       [116.71929 ],\n",
              "       [116.99915 ],\n",
              "       [118.08058 ],\n",
              "       [118.90624 ],\n",
              "       [118.54721 ],\n",
              "       [117.95198 ],\n",
              "       [116.721756],\n",
              "       [114.87712 ],\n",
              "       [113.59808 ],\n",
              "       [112.176025],\n",
              "       [109.76887 ],\n",
              "       [107.69702 ],\n",
              "       [107.041046],\n",
              "       [107.29799 ],\n",
              "       [107.53912 ],\n",
              "       [107.82951 ],\n",
              "       [108.11535 ],\n",
              "       [108.49161 ],\n",
              "       [109.172806],\n",
              "       [109.54171 ],\n",
              "       [110.19982 ],\n",
              "       [110.71074 ],\n",
              "       [110.44064 ],\n",
              "       [109.723045],\n",
              "       [108.56908 ],\n",
              "       [107.223   ],\n",
              "       [106.27328 ],\n",
              "       [106.33884 ],\n",
              "       [107.28339 ],\n",
              "       [109.08815 ],\n",
              "       [110.73938 ],\n",
              "       [112.05345 ],\n",
              "       [112.1115  ],\n",
              "       [110.7875  ],\n",
              "       [109.385735],\n",
              "       [108.025665],\n",
              "       [106.85822 ],\n",
              "       [106.345604],\n",
              "       [106.65418 ],\n",
              "       [107.47217 ],\n",
              "       [108.60905 ],\n",
              "       [110.83066 ],\n",
              "       [113.72286 ],\n",
              "       [115.984406],\n",
              "       [117.21991 ],\n",
              "       [117.98487 ],\n",
              "       [118.74832 ],\n",
              "       [119.213326],\n",
              "       [119.51849 ],\n",
              "       [119.308044],\n",
              "       [118.00631 ],\n",
              "       [116.78764 ],\n",
              "       [116.26923 ],\n",
              "       [116.108315],\n",
              "       [115.88299 ],\n",
              "       [115.70684 ],\n",
              "       [116.06141 ],\n",
              "       [117.29691 ],\n",
              "       [119.285965],\n",
              "       [120.56821 ],\n",
              "       [120.226166],\n",
              "       [120.81303 ],\n",
              "       [121.44409 ],\n",
              "       [121.63169 ],\n",
              "       [121.61356 ],\n",
              "       [122.00825 ],\n",
              "       [123.66526 ],\n",
              "       [125.6894  ],\n",
              "       [128.03369 ],\n",
              "       [130.21252 ],\n",
              "       [131.34186 ],\n",
              "       [131.48116 ],\n",
              "       [131.1555  ],\n",
              "       [131.06866 ],\n",
              "       [131.65799 ],\n",
              "       [133.12215 ],\n",
              "       [134.31749 ],\n",
              "       [134.9296  ],\n",
              "       [135.28804 ],\n",
              "       [134.97314 ],\n",
              "       [134.0848  ],\n",
              "       [132.98842 ],\n",
              "       [131.58438 ],\n",
              "       [130.34749 ],\n",
              "       [129.47746 ],\n",
              "       [128.3555  ],\n",
              "       [128.73102 ],\n",
              "       [129.81116 ],\n",
              "       [131.00922 ],\n",
              "       [132.1746  ],\n",
              "       [133.51447 ],\n",
              "       [135.09306 ],\n",
              "       [136.58923 ],\n",
              "       [137.54677 ],\n",
              "       [137.49637 ],\n",
              "       [136.73077 ],\n",
              "       [135.75766 ],\n",
              "       [134.89824 ],\n",
              "       [134.33682 ],\n",
              "       [132.69284 ],\n",
              "       [131.25864 ],\n",
              "       [129.8819  ],\n",
              "       [129.93633 ],\n",
              "       [130.23273 ],\n",
              "       [130.45653 ],\n",
              "       [131.00594 ],\n",
              "       [131.89548 ],\n",
              "       [135.76482 ],\n",
              "       [141.15805 ],\n",
              "       [148.4442  ],\n",
              "       [153.42004 ],\n",
              "       [154.50302 ],\n",
              "       [154.74043 ],\n",
              "       [154.05109 ],\n",
              "       [154.00319 ],\n",
              "       [155.74864 ],\n",
              "       [158.31886 ],\n",
              "       [159.93831 ],\n",
              "       [160.88844 ],\n",
              "       [161.71782 ],\n",
              "       [162.16972 ],\n",
              "       [160.87648 ],\n",
              "       [159.77422 ],\n",
              "       [158.47534 ],\n",
              "       [156.85733 ],\n",
              "       [154.55515 ],\n",
              "       [151.66524 ],\n",
              "       [150.52608 ],\n",
              "       [150.64192 ],\n",
              "       [154.47647 ],\n",
              "       [158.45007 ],\n",
              "       [160.84335 ],\n",
              "       [161.1435  ],\n",
              "       [160.80678 ],\n",
              "       [163.04933 ],\n",
              "       [166.43274 ],\n",
              "       [168.84897 ],\n",
              "       [170.63332 ],\n",
              "       [174.17462 ],\n",
              "       [175.30502 ],\n",
              "       [171.0316  ],\n",
              "       [163.90715 ],\n",
              "       [159.33607 ],\n",
              "       [157.88281 ],\n",
              "       [159.75688 ],\n",
              "       [162.56175 ],\n",
              "       [164.52504 ],\n",
              "       [165.12126 ],\n",
              "       [166.02956 ],\n",
              "       [167.76257 ],\n",
              "       [168.32391 ],\n",
              "       [167.63611 ],\n",
              "       [166.6303  ],\n",
              "       [167.40157 ],\n",
              "       [169.93117 ],\n",
              "       [171.12381 ],\n",
              "       [171.82468 ],\n",
              "       [170.61209 ],\n",
              "       [169.16345 ],\n",
              "       [167.17555 ],\n",
              "       [165.56487 ],\n",
              "       [164.85771 ],\n",
              "       [164.1159  ],\n",
              "       [162.86157 ],\n",
              "       [161.80675 ]], dtype=float32)"
            ]
          },
          "metadata": {},
          "execution_count": 50
        }
      ]
    },
    {
      "cell_type": "code",
      "metadata": {
        "id": "KTq0m4qcI7F-"
      },
      "source": [
        "train_predict=model.predict(X_train)\n",
        "test_predict=model.predict(X_test)\n",
        "train_predict=scaler.inverse_transform(train_predict)\n",
        "test_predict=scaler.inverse_transform(test_predict)"
      ],
      "execution_count": 51,
      "outputs": []
    },
    {
      "cell_type": "code",
      "metadata": {
        "colab": {
          "base_uri": "https://localhost:8080/"
        },
        "id": "SVn9s52qJHpb",
        "outputId": "bbb8bdd1-f22a-4947-f700-755da5ec1723"
      },
      "source": [
        "import math\n",
        "from sklearn.metrics import mean_squared_error\n",
        "math.sqrt(mean_squared_error(y_train,train_predict))"
      ],
      "execution_count": 52,
      "outputs": [
        {
          "output_type": "execute_result",
          "data": {
            "text/plain": [
              "134.50548580878706"
            ]
          },
          "metadata": {},
          "execution_count": 52
        }
      ]
    }
  ]
}